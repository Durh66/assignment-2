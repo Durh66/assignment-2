{
 "cells": [
  {
   "cell_type": "markdown",
   "id": "0048dd61-0a72-4221-a654-4664fe08027a",
   "metadata": {},
   "source": [
    "# 1-Implement Fibonacci series using recursion"
   ]
  },
  {
   "cell_type": "code",
   "execution_count": null,
   "id": "c1b4fcb9-5a90-4916-8743-d9a6d9f5e028",
   "metadata": {},
   "outputs": [],
   "source": [
    "print(\"please input where to stop\")\n",
    "seq = int(input(\"enter value\"))\n",
    "\n",
    "a = 0\n",
    "b = 1\n",
    "for i in range(seq):\n",
    "    if i == 0:\n",
    "        print(a)\n",
    "    elif i ==1:\n",
    "        print(b)\n",
    "    else:\n",
    "        fyb = a + b\n",
    "        print(fyb)\n",
    "        a = b\n",
    "        b = fyb\n",
    "    \n",
    "   \n",
    "#another answer\n",
    "def fyb(i):\n",
    "    if i == 0:\n",
    "        return 0\n",
    "    elif i ==1:\n",
    "            return 1\n",
    "    else:\n",
    "        return fyb(i-2) +fyb(i-1)\n",
    "    \n",
    "seq = int(input(\"please input when to stop \"))\n",
    "for n in range(seq):\n",
    "    print(fyb(n))\n",
    "\n"
   ]
  },
  {
   "cell_type": "markdown",
   "id": "e9381427-9889-41b4-b146-04b55b21b508",
   "metadata": {},
   "source": [
    "# 2 Write a Python program to find all the unique words and count the frequency of occurrence from a given list of strings\n"
   ]
  },
  {
   "cell_type": "code",
   "execution_count": null,
   "id": "bab11da4-656d-4922-8d41-8cbc8c18042d",
   "metadata": {},
   "outputs": [],
   "source": [
    "words = []\n",
    "count = 0\n",
    "words_dic = {}\n",
    "unique_words= []\n",
    "repititive_words = []\n",
    "while True:\n",
    "    sent = input(\"please feel free to write what you want and if you are done enter exit \")\n",
    "    if sent.lower() ==\"exit\":\n",
    "        break\n",
    "    \n",
    "    temp_word = sent.split()\n",
    "    words.extend(temp_word)\n",
    "print(words)\n",
    "\n",
    "for w in words:\n",
    "    for re in words:\n",
    "        if w == re:\n",
    "            count += 1\n",
    "        \n",
    "    #in this section you must re assign count to 0 and add the word to the dictionary and its count then re assign the count and rrence and repeat \n",
    "    words_dic[w] = count\n",
    "    count = 0 \n",
    "print(words_dic)\n",
    "for k, y in words_dic.items():\n",
    "    if y ==1:\n",
    "      unique_words.append(k)\n",
    "    elif y!=1:\n",
    "        repititive_words.append(k)  \n",
    "    \n",
    "print(f\"your unique words {unique_words}\")\n",
    "print(f\"your reptitve words {repititive_words}\")"
   ]
  },
  {
   "cell_type": "markdown",
   "id": "26924b43-06ce-4aa2-8321-5341987441d7",
   "metadata": {},
   "source": [
    "# 3. Write a Python program that finds all pairs of elements in a list whose sum is equal to a given value.\r",
    "e"
   ]
  },
  {
   "cell_type": "code",
   "execution_count": null,
   "id": "0cac73a3-aebc-417f-92fe-c6d4dbcca560",
   "metadata": {},
   "outputs": [],
   "source": [
    "flag = True\n",
    "\n",
    "num = []\n",
    "\n",
    "while flag:\n",
    "  st = input(\"enter your list of numbers when you are done enter exit\")\n",
    "  if st.lower() == 'exit':\n",
    "    flag = False\n",
    "  else:\n",
    "    num.append(st)\n",
    "\n",
    "  \n",
    "num1 = [float(i) for i in num]\n",
    "print(f\"your list is {num1}\")\n",
    "val = float(input(\"please enter the value you want to check\"))\n",
    "x = len(num1)\n",
    "s =0\n",
    "total = 0\n",
    "the_pairs = []\n",
    "for v in range(x):\n",
    "  s = v+1\n",
    "  for n in range(s,len(num1)):\n",
    "    total = num1[v]+num1[n]\n",
    "    if total == val:\n",
    "      the_pairs.append([num1[n],num1[v]])\n",
    "  \n",
    "print(f\"the list of the pairs of items that equals to {val} is {the_pairs}\") \n",
    "      \n",
    "#the only problem here is the code wont handle any string inputs at the start i can fix that using try function but it would be more complicated and i am already late for the asignemnt if you have a fix please help"
   ]
  },
  {
   "cell_type": "markdown",
   "id": "e95e5671-1a99-4606-8d1c-1e8df1b2b615",
   "metadata": {},
   "source": [
    "# 4. Write a Python program to find the two numbers whose product is maximum among all the pairs in a given list of numbers.\r",
    "s"
   ]
  },
  {
   "cell_type": "code",
   "execution_count": null,
   "id": "802f3814-ef2d-477b-bcc0-1af6421dfccf",
   "metadata": {},
   "outputs": [],
   "source": [
    "flag = True\n",
    "\n",
    "num = []\n",
    "\n",
    "while flag:\n",
    "  st = input(\"enter your list of numbers when you are done enter exit\")\n",
    "  if st.lower() == 'exit':\n",
    "    flag = False\n",
    "  else:\n",
    "    num.append(st)\n",
    "\n",
    "\n",
    "\n",
    "num1 = [float(i) for i in num]\n",
    "print(f\"your list is {num1}\")\n",
    "s =0\n",
    "total = 0\n",
    "f = 0\n",
    "the_pairs = []\n",
    "for v in range(len(num1)):\n",
    "  s = v+1\n",
    "  for n in range(s,len(num1)):\n",
    "    total = num1[v]*num1[n]\n",
    "    \n",
    "    if total >= f:\n",
    "      f = total\n",
    "    else:\n",
    "      continue\n",
    " \n",
    "v = 0\n",
    "n = 0\n",
    "first = 0\n",
    "second = 0\n",
    "for v in range(len(num1)):\n",
    "  s = v+1\n",
    "  for n in range(s,len(num1)):\n",
    "    total = num1[v]*num1[n]\n",
    "    if total == f:\n",
    "      first = num1[v]\n",
    "      second = num1 [n]\n",
    "      \n",
    "print(f\"the two numbers in your list with the higest product are {first}  and {second}\") \n",
    "\n",
    "#i feel like i created alot of variable s that is in effiecnt please correct me \n",
    "      \n"
   ]
  },
  {
   "cell_type": "markdown",
   "id": "ee660458-1534-4712-a171-f56cf7407bcf",
   "metadata": {},
   "source": [
    "# 5 Write a Python function that takes a number as a parameter and checks whether the number is prime or not.\r",
    "."
   ]
  },
  {
   "cell_type": "code",
   "execution_count": null,
   "id": "dc8e04fb-55ee-4d26-b04e-6c29261001fd",
   "metadata": {},
   "outputs": [],
   "source": [
    "def isprime(n):\n",
    "    \n",
    "    if n <= 1:\n",
    "        return False\n",
    "    if n == 2 or n == 3:\n",
    "        return True\n",
    "    if n % 2 == 0 or n % 3 == 0:\n",
    "        return False\n",
    "    x = 5\n",
    "    while x * x <= n:\n",
    "        if n % x == 0 or n % (x + 2) == 0:\n",
    "            return False\n",
    "        x += 6\n",
    "    return True\n",
    "flag = True\n",
    "while flag :\n",
    "    number = int(input(\"please enter the numbers you want to test \"))\n",
    "    inm = input(\"if you are done wrtite exit If you wnat to continue write anything\")\n",
    "    if inm.lower()==\"exit\":\n",
    "        flag = False\n",
    "        \n",
    "    if isprime(number):\n",
    "        print(f\"{number}is prime\")\n",
    "    else:\n",
    "        print(f\"{number} isnt prime \")"
   ]
  },
  {
   "cell_type": "markdown",
   "id": "ec83c418-7b01-408d-8f3a-8722729e51cb",
   "metadata": {},
   "source": [
    "# 6. Write a Python function to print the even numbers from a given list.\r\n"
   ]
  },
  {
   "cell_type": "code",
   "execution_count": null,
   "id": "96002746-e472-40df-becf-ac5d93976dea",
   "metadata": {},
   "outputs": [],
   "source": [
    "def print_even_numbers(numbers):\n",
    "    even_numbers = [num for num in numbers if num % 2 == 0]\n",
    "    print(\"Even numbers:\", even_numbers)\n",
    "\n",
    "example_list = [1, 2, 3, 4, 5, 6, 7, 8, 9, 10]\n",
    "print_even_numbers(example_list)\n"
   ]
  },
  {
   "cell_type": "markdown",
   "id": "2563af3c-70c5-45ff-9b8a-e18da4841d00",
   "metadata": {},
   "source": [
    "# 7. Write a function that will take a given string and reverse the order of words.\r\n"
   ]
  },
  {
   "cell_type": "code",
   "execution_count": null,
   "id": "312b34d5-ab9f-4c42-a6ba-929a36a235aa",
   "metadata": {},
   "outputs": [],
   "source": [
    "def reverse_words_order(input_string):\n",
    "    words = input_string.split()\n",
    "    \n",
    "    reversed_words = words[::-1]\n",
    "    \n",
    "    reversed_string = ' '.join(reversed_words)\n",
    "    \n",
    "    return reversed_string\n",
    "\n",
    "input_string = input(\"enter your string\")\n",
    "reversed_string = reverse_words_order(input_string)\n",
    "print(f\"Original string: {input_string}\")\n",
    "print(f\"Reversed string: {reversed_string}\")\n"
   ]
  },
  {
   "cell_type": "markdown",
   "id": "3543e950-7b98-4943-be52-fa142dc8d0d6",
   "metadata": {},
   "source": [
    "# 8. Given an integer x, return true if x is a palindrome, and false otherwise.\r\n"
   ]
  },
  {
   "cell_type": "code",
   "execution_count": null,
   "id": "d13bfccc-54fa-46cf-879a-c9b349f9b5eb",
   "metadata": {},
   "outputs": [],
   "source": [
    "def is_palindrome(x):\n",
    "    str_x = str(x)\n",
    "    if str_x == str_x[::-1]:\n",
    "        print(True)\n",
    "    else:\n",
    "        print(False)\n",
    "is_palindrome(121)  \n",
    "is_palindrome(-121) \n",
    "is_palindrome(10)   \n"
   ]
  },
  {
   "cell_type": "markdown",
   "id": "2f1708a7-76bf-41f8-b58b-5fe77b17577e",
   "metadata": {},
   "source": [
    "# 9. Write a Python function that checks whether a passed string is a palindrome or not"
   ]
  },
  {
   "cell_type": "code",
   "execution_count": null,
   "id": "539b2c04-1a7f-499f-b96d-37c826897f59",
   "metadata": {},
   "outputs": [],
   "source": [
    "sen = input(\"input your desiersd sentence\")\n",
    "\n",
    "print(sen)\n",
    "def paldi(sem):\n",
    "    if sem == sem[::-1]:\n",
    "            print(\"Palindrome\")\n",
    "    else:\n",
    "      print(\"not Palindrome\")\n",
    "        \n",
    "paldi(sen)    \n",
    "   \n"
   ]
  },
  {
   "cell_type": "markdown",
   "id": "4c5a8a1c-93f4-4bcc-aeff-11e357c9ec28",
   "metadata": {},
   "source": [
    "# 10.Write a Python function to create and print a list where the values are the squares of numbers\r\n"
   ]
  },
  {
   "cell_type": "code",
   "execution_count": null,
   "id": "ba031053-1378-4f8f-a0d9-3ab383d70a50",
   "metadata": {},
   "outputs": [],
   "source": [
    "lims = int(input(\"enter the limit wwhere the function stops\"))\n",
    "def sq(lim):\n",
    "    sqr = []\n",
    "    for i in range(1,lim+1):\n",
    "            sqr.append(i**2)\n",
    "        \n",
    "    print(sqr)\n",
    "\n",
    "sq(lims)\n",
    "\n",
    "\n",
    "    \n",
    "    "
   ]
  },
  {
   "cell_type": "markdown",
   "id": "4d9e1e33-ab36-4d1f-a6fb-18043c672ae7",
   "metadata": {},
   "source": [
    "# 11. Write a Python function to generate all permutations of a list.\r\n"
   ]
  },
  {
   "cell_type": "code",
   "execution_count": null,
   "id": "cf03d2c0-4f62-4e1e-a5b4-46b8c7bf3063",
   "metadata": {},
   "outputs": [],
   "source": [
    "flag = True\n",
    "\n",
    "num = []\n",
    "\n",
    "while flag:\n",
    "  st = input(\"enter your list of numbers when you are done enter exit\")\n",
    "  if st.lower() == 'exit':\n",
    "    flag = False\n",
    "  else:\n",
    "    num.append(st)\n",
    "\n",
    "  \n",
    "num1 = [float(i) for i in num]\n",
    "num2 = num1[:]\n",
    "print(f\"your  orignal list is {num1}\")\n",
    "for v in num1:\n",
    "  for i in range(len(num)):\n",
    "    num2.insert(i,v)\n",
    "    print(num2)\n",
    "  \n",
    "#بايطه خالص "
   ]
  },
  {
   "cell_type": "markdown",
   "id": "b28f6d4e-4b35-4096-89d8-b713d9a50c1f",
   "metadata": {},
   "source": [
    "# 12. Write a Python program to access a function inside a function"
   ]
  },
  {
   "cell_type": "code",
   "execution_count": null,
   "id": "5aeb7f82-6c16-400b-b322-d0677fe4f13a",
   "metadata": {},
   "outputs": [],
   "source": [
    "def fun1 ():\n",
    "    flag = True\n",
    "    while flag:\n",
    "       na = input(\"what is your name \")\n",
    "       t = input(\"is this really your name enter y to agree and n to disagree\")\n",
    "       if t == \"y\":\n",
    "           flag = False\n",
    "           \n",
    "        \n",
    "    def fun2(sa):\n",
    "        print(f\"yout name {sa} is shit\")\n",
    "    fun2(na)\n",
    "           \n",
    "\n",
    "fun1()"
   ]
  }
 ],
 "metadata": {
  "kernelspec": {
   "display_name": "Python 3 (ipykernel)",
   "language": "python",
   "name": "python3"
  },
  "language_info": {
   "codemirror_mode": {
    "name": "ipython",
    "version": 3
   },
   "file_extension": ".py",
   "mimetype": "text/x-python",
   "name": "python",
   "nbconvert_exporter": "python",
   "pygments_lexer": "ipython3",
   "version": "3.12.4"
  }
 },
 "nbformat": 4,
 "nbformat_minor": 5
}
